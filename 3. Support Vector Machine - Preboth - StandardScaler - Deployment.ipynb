{
 "cells": [
  {
   "cell_type": "code",
   "execution_count": 16,
   "id": "5d2b28d2-1044-4979-ae5e-3ce34da83bc3",
   "metadata": {},
   "outputs": [],
   "source": [
    "import pandas as pd\n",
    "dataset=pd.read_csv('50_Startups.csv')\n",
    "dataset=pd.get_dummies(dataset,dtype=int,drop_first=True)\n",
    "independent=dataset[['R&D Spend', 'Administration', 'Marketing Spend','State_Florida', 'State_New York']]\n",
    "dependent=dataset[['Profit']]"
   ]
  },
  {
   "cell_type": "code",
   "execution_count": 17,
   "id": "ceb4de87-4eb7-411f-b715-a1044af0b2b5",
   "metadata": {},
   "outputs": [],
   "source": [
    "from sklearn.model_selection import train_test_split\n",
    "input_train,input_test,output_train,output_test=train_test_split(independent,dependent,test_size=0.3,random_state=0)"
   ]
  },
  {
   "cell_type": "code",
   "execution_count": 18,
   "id": "eafb2800-fdae-4b87-8ebb-e2bcbcda933a",
   "metadata": {},
   "outputs": [],
   "source": [
    "from sklearn.preprocessing import StandardScaler\n",
    "sc=StandardScaler()\n",
    "input_train=sc.fit_transform(input_train)\n",
    "input_test=sc.transform(input_test)"
   ]
  },
  {
   "cell_type": "code",
   "execution_count": 19,
   "id": "d184d871-81e4-4990-934e-d7d06d30fdf6",
   "metadata": {},
   "outputs": [],
   "source": [
    "scy=StandardScaler()\n",
    "output_train=scy.fit_transform(output_train)\n",
    "output_test=scy.transform(output_test)"
   ]
  },
  {
   "cell_type": "code",
   "execution_count": 20,
   "id": "e234c3b3-2207-4165-a978-b3ca51d0427d",
   "metadata": {},
   "outputs": [
    {
     "name": "stderr",
     "output_type": "stream",
     "text": [
      "C:\\Anaconda3\\Lib\\site-packages\\sklearn\\base.py:493: UserWarning: X does not have valid feature names, but StandardScaler was fitted with feature names\n",
      "  warnings.warn(\n"
     ]
    },
    {
     "data": {
      "text/plain": [
       "array([[-1.4894032 , -4.7874123 , -1.5362988 , -0.5       , -0.76870611]])"
      ]
     },
     "execution_count": 20,
     "metadata": {},
     "output_type": "execute_result"
    }
   ],
   "source": [
    "import pickle\n",
    "preinput=sc.transform([[234,432,234,0,0]])\n",
    "preinput"
   ]
  },
  {
   "cell_type": "code",
   "execution_count": 21,
   "id": "004b8c06-9e59-4c51-9ae0-3df574cd4d4e",
   "metadata": {},
   "outputs": [],
   "source": [
    "load=pickle.load(open('Final - SVR - StandardScaler - Both.sav','rb'))"
   ]
  },
  {
   "cell_type": "code",
   "execution_count": 22,
   "id": "87a947c0-0365-4b93-826d-d6208cc62c57",
   "metadata": {},
   "outputs": [],
   "source": [
    "result=load.predict(preinput)"
   ]
  },
  {
   "cell_type": "code",
   "execution_count": 23,
   "id": "17e69ea2-6cf6-45aa-b829-0401065edc71",
   "metadata": {},
   "outputs": [
    {
     "data": {
      "text/plain": [
       "array([-1.50352865])"
      ]
     },
     "execution_count": 23,
     "metadata": {},
     "output_type": "execute_result"
    }
   ],
   "source": [
    "result"
   ]
  },
  {
   "cell_type": "code",
   "execution_count": 26,
   "id": "57d072a6-7399-44b9-8446-eab7ff799a58",
   "metadata": {},
   "outputs": [],
   "source": [
    "preoutput=scy.inverse_transform([result])"
   ]
  },
  {
   "cell_type": "code",
   "execution_count": 27,
   "id": "f6630f1f-18e0-4af3-a7ba-fda7bcedf967",
   "metadata": {},
   "outputs": [
    {
     "data": {
      "text/plain": [
       "array([[45554.40093249]])"
      ]
     },
     "execution_count": 27,
     "metadata": {},
     "output_type": "execute_result"
    }
   ],
   "source": [
    "preoutput"
   ]
  },
  {
   "cell_type": "code",
   "execution_count": null,
   "id": "b9445f8a-6e82-4ff4-8fe6-d124c1a209d2",
   "metadata": {},
   "outputs": [],
   "source": []
  }
 ],
 "metadata": {
  "kernelspec": {
   "display_name": "Python 3 (ipykernel)",
   "language": "python",
   "name": "python3"
  },
  "language_info": {
   "codemirror_mode": {
    "name": "ipython",
    "version": 3
   },
   "file_extension": ".py",
   "mimetype": "text/x-python",
   "name": "python",
   "nbconvert_exporter": "python",
   "pygments_lexer": "ipython3",
   "version": "3.12.4"
  }
 },
 "nbformat": 4,
 "nbformat_minor": 5
}
